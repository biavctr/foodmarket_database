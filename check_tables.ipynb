{
 "cells": [
  {
   "cell_type": "code",
   "execution_count": 1,
   "metadata": {},
   "outputs": [],
   "source": [
    "import pandas as pd"
   ]
  },
  {
   "cell_type": "code",
   "execution_count": 3,
   "metadata": {},
   "outputs": [],
   "source": [
    "cart_items = pd.read_csv('data2/carts_items.csv')\n",
    "catalog_items = pd.read_csv('data2/catalog_items.csv')\n",
    "\n"
   ]
  },
  {
   "cell_type": "code",
   "execution_count": 4,
   "metadata": {},
   "outputs": [
    {
     "data": {
      "text/html": [
       "<div>\n",
       "<style scoped>\n",
       "    .dataframe tbody tr th:only-of-type {\n",
       "        vertical-align: middle;\n",
       "    }\n",
       "\n",
       "    .dataframe tbody tr th {\n",
       "        vertical-align: top;\n",
       "    }\n",
       "\n",
       "    .dataframe thead th {\n",
       "        text-align: right;\n",
       "    }\n",
       "</style>\n",
       "<table border=\"1\" class=\"dataframe\">\n",
       "  <thead>\n",
       "    <tr style=\"text-align: right;\">\n",
       "      <th></th>\n",
       "      <th>CART_ID</th>\n",
       "      <th>ITEM_ID</th>\n",
       "      <th>QUANTITY</th>\n",
       "    </tr>\n",
       "  </thead>\n",
       "  <tbody>\n",
       "    <tr>\n",
       "      <th>0</th>\n",
       "      <td>4067b38b-57bd-4368-b173-4d0d2674e1a5</td>\n",
       "      <td>2a48f166-8f6d-491c-a2ee-b40be07c12bf</td>\n",
       "      <td>2</td>\n",
       "    </tr>\n",
       "    <tr>\n",
       "      <th>1</th>\n",
       "      <td>4067b38b-57bd-4368-b173-4d0d2674e1a5</td>\n",
       "      <td>8b551ad2-d289-45da-af9e-7fe6f370bfbd</td>\n",
       "      <td>2</td>\n",
       "    </tr>\n",
       "    <tr>\n",
       "      <th>2</th>\n",
       "      <td>4067b38b-57bd-4368-b173-4d0d2674e1a5</td>\n",
       "      <td>8fd1b4da-18c8-4967-8eab-145a2bd91859</td>\n",
       "      <td>1</td>\n",
       "    </tr>\n",
       "    <tr>\n",
       "      <th>3</th>\n",
       "      <td>4067b38b-57bd-4368-b173-4d0d2674e1a5</td>\n",
       "      <td>a4f9718f-17e5-4fdf-a323-54ec75b329ef</td>\n",
       "      <td>2</td>\n",
       "    </tr>\n",
       "    <tr>\n",
       "      <th>4</th>\n",
       "      <td>4067b38b-57bd-4368-b173-4d0d2674e1a5</td>\n",
       "      <td>3cb27960-3c7f-474d-af00-56dadcb76811</td>\n",
       "      <td>4</td>\n",
       "    </tr>\n",
       "  </tbody>\n",
       "</table>\n",
       "</div>"
      ],
      "text/plain": [
       "                                CART_ID                               ITEM_ID  \\\n",
       "0  4067b38b-57bd-4368-b173-4d0d2674e1a5  2a48f166-8f6d-491c-a2ee-b40be07c12bf   \n",
       "1  4067b38b-57bd-4368-b173-4d0d2674e1a5  8b551ad2-d289-45da-af9e-7fe6f370bfbd   \n",
       "2  4067b38b-57bd-4368-b173-4d0d2674e1a5  8fd1b4da-18c8-4967-8eab-145a2bd91859   \n",
       "3  4067b38b-57bd-4368-b173-4d0d2674e1a5  a4f9718f-17e5-4fdf-a323-54ec75b329ef   \n",
       "4  4067b38b-57bd-4368-b173-4d0d2674e1a5  3cb27960-3c7f-474d-af00-56dadcb76811   \n",
       "\n",
       "   QUANTITY  \n",
       "0         2  \n",
       "1         2  \n",
       "2         1  \n",
       "3         2  \n",
       "4         4  "
      ]
     },
     "execution_count": 4,
     "metadata": {},
     "output_type": "execute_result"
    }
   ],
   "source": [
    "cart_items.head()"
   ]
  },
  {
   "cell_type": "code",
   "execution_count": 5,
   "metadata": {},
   "outputs": [
    {
     "data": {
      "text/html": [
       "<div>\n",
       "<style scoped>\n",
       "    .dataframe tbody tr th:only-of-type {\n",
       "        vertical-align: middle;\n",
       "    }\n",
       "\n",
       "    .dataframe tbody tr th {\n",
       "        vertical-align: top;\n",
       "    }\n",
       "\n",
       "    .dataframe thead th {\n",
       "        text-align: right;\n",
       "    }\n",
       "</style>\n",
       "<table border=\"1\" class=\"dataframe\">\n",
       "  <thead>\n",
       "    <tr style=\"text-align: right;\">\n",
       "      <th></th>\n",
       "      <th>ITEM_ID</th>\n",
       "      <th>ITEM_NAME</th>\n",
       "      <th>MERCHANT_ID</th>\n",
       "      <th>ITEM_PRICE</th>\n",
       "    </tr>\n",
       "  </thead>\n",
       "  <tbody>\n",
       "    <tr>\n",
       "      <th>0</th>\n",
       "      <td>a81d6a74-2111-4792-a061-448c550e1b03</td>\n",
       "      <td>DESSERT4</td>\n",
       "      <td>f69ce7df-8e09-4a39-b4e3-9e7ea9237ce7</td>\n",
       "      <td>34.70</td>\n",
       "    </tr>\n",
       "    <tr>\n",
       "      <th>1</th>\n",
       "      <td>9d9ad9ec-bde1-4521-9e0a-35d981a83bf5</td>\n",
       "      <td>DESSERT5</td>\n",
       "      <td>110d7a5d-9e20-4e8c-bdad-db5d89a4ae6f</td>\n",
       "      <td>46.69</td>\n",
       "    </tr>\n",
       "    <tr>\n",
       "      <th>2</th>\n",
       "      <td>4db82741-4be1-497d-86c7-2f0de4533c0c</td>\n",
       "      <td>DESSERT4</td>\n",
       "      <td>b8c00ff6-2363-4a91-894e-ba8d68f77fa4</td>\n",
       "      <td>20.69</td>\n",
       "    </tr>\n",
       "    <tr>\n",
       "      <th>3</th>\n",
       "      <td>385084f0-52c1-4734-9eb7-bd12750eac01</td>\n",
       "      <td>DESSERT4</td>\n",
       "      <td>72f82230-1b1c-4111-ae2a-f897d0b591a6</td>\n",
       "      <td>43.94</td>\n",
       "    </tr>\n",
       "    <tr>\n",
       "      <th>4</th>\n",
       "      <td>a849b337-c3a9-4ab6-899d-a5cf764111c7</td>\n",
       "      <td>BEVERAGE5</td>\n",
       "      <td>ef63a349-1b38-470b-832b-b87c7e9d1767</td>\n",
       "      <td>21.09</td>\n",
       "    </tr>\n",
       "  </tbody>\n",
       "</table>\n",
       "</div>"
      ],
      "text/plain": [
       "                                ITEM_ID  ITEM_NAME  \\\n",
       "0  a81d6a74-2111-4792-a061-448c550e1b03   DESSERT4   \n",
       "1  9d9ad9ec-bde1-4521-9e0a-35d981a83bf5   DESSERT5   \n",
       "2  4db82741-4be1-497d-86c7-2f0de4533c0c   DESSERT4   \n",
       "3  385084f0-52c1-4734-9eb7-bd12750eac01   DESSERT4   \n",
       "4  a849b337-c3a9-4ab6-899d-a5cf764111c7  BEVERAGE5   \n",
       "\n",
       "                            MERCHANT_ID  ITEM_PRICE  \n",
       "0  f69ce7df-8e09-4a39-b4e3-9e7ea9237ce7       34.70  \n",
       "1  110d7a5d-9e20-4e8c-bdad-db5d89a4ae6f       46.69  \n",
       "2  b8c00ff6-2363-4a91-894e-ba8d68f77fa4       20.69  \n",
       "3  72f82230-1b1c-4111-ae2a-f897d0b591a6       43.94  \n",
       "4  ef63a349-1b38-470b-832b-b87c7e9d1767       21.09  "
      ]
     },
     "execution_count": 5,
     "metadata": {},
     "output_type": "execute_result"
    }
   ],
   "source": [
    "catalog_items.head()"
   ]
  },
  {
   "cell_type": "code",
   "execution_count": 8,
   "metadata": {},
   "outputs": [
    {
     "name": "stdout",
     "output_type": "stream",
     "text": [
      "cart_items: 39941 rows, 27392 distinct keys\n",
      "catalog_items: 50000 rows, 50000 distinct keys\n"
     ]
    }
   ],
   "source": [
    "# Print the number of rows in each table and distinct keys\n",
    "print('cart_items: {} rows, {} distinct keys'.format(len(cart_items), len(cart_items['ITEM_ID'].unique())))\n",
    "print('catalog_items: {} rows, {} distinct keys'.format(len(catalog_items), len(catalog_items['ITEM_ID'].unique())))"
   ]
  },
  {
   "cell_type": "code",
   "execution_count": 9,
   "metadata": {},
   "outputs": [
    {
     "data": {
      "text/html": [
       "<div>\n",
       "<style scoped>\n",
       "    .dataframe tbody tr th:only-of-type {\n",
       "        vertical-align: middle;\n",
       "    }\n",
       "\n",
       "    .dataframe tbody tr th {\n",
       "        vertical-align: top;\n",
       "    }\n",
       "\n",
       "    .dataframe thead th {\n",
       "        text-align: right;\n",
       "    }\n",
       "</style>\n",
       "<table border=\"1\" class=\"dataframe\">\n",
       "  <thead>\n",
       "    <tr style=\"text-align: right;\">\n",
       "      <th></th>\n",
       "      <th>CART_ID</th>\n",
       "      <th>ITEM_ID</th>\n",
       "      <th>QUANTITY</th>\n",
       "    </tr>\n",
       "  </thead>\n",
       "  <tbody>\n",
       "    <tr>\n",
       "      <th>20753</th>\n",
       "      <td>e7446d56-3e1b-4200-b7c3-e531289549f0</td>\n",
       "      <td>NaN</td>\n",
       "      <td>1</td>\n",
       "    </tr>\n",
       "    <tr>\n",
       "      <th>25358</th>\n",
       "      <td>40dbce35-8b17-4371-b228-45407ad442b4</td>\n",
       "      <td>NaN</td>\n",
       "      <td>3</td>\n",
       "    </tr>\n",
       "  </tbody>\n",
       "</table>\n",
       "</div>"
      ],
      "text/plain": [
       "                                    CART_ID ITEM_ID  QUANTITY\n",
       "20753  e7446d56-3e1b-4200-b7c3-e531289549f0     NaN         1\n",
       "25358  40dbce35-8b17-4371-b228-45407ad442b4     NaN         3"
      ]
     },
     "execution_count": 9,
     "metadata": {},
     "output_type": "execute_result"
    }
   ],
   "source": [
    "# Check if there are any items in the cart that are not in the catalog\n",
    "cart_items[~cart_items['ITEM_ID'].isin(catalog_items['ITEM_ID'])]"
   ]
  },
  {
   "cell_type": "code",
   "execution_count": 23,
   "metadata": {},
   "outputs": [
    {
     "name": "stdout",
     "output_type": "stream",
     "text": [
      "[nan] 1\n"
     ]
    }
   ],
   "source": [
    "cart_items_id = cart_items['ITEM_ID'].unique()\n",
    "catalog_items_id = catalog_items['ITEM_ID'].unique()\n",
    "\n",
    "# Check if there are any items in the catalog that are not in the cart\n",
    "not_matched = [id for id in cart_items_id if id not in catalog_items_id]\n",
    "print(not_matched, len(not_matched))"
   ]
  },
  {
   "cell_type": "code",
   "execution_count": 19,
   "metadata": {},
   "outputs": [
    {
     "data": {
      "text/plain": [
       "27392"
      ]
     },
     "execution_count": 19,
     "metadata": {},
     "output_type": "execute_result"
    }
   ],
   "source": [
    "len(cart_items_id)"
   ]
  },
  {
   "cell_type": "code",
   "execution_count": 16,
   "metadata": {},
   "outputs": [
    {
     "data": {
      "text/html": [
       "<div>\n",
       "<style scoped>\n",
       "    .dataframe tbody tr th:only-of-type {\n",
       "        vertical-align: middle;\n",
       "    }\n",
       "\n",
       "    .dataframe tbody tr th {\n",
       "        vertical-align: top;\n",
       "    }\n",
       "\n",
       "    .dataframe thead th {\n",
       "        text-align: right;\n",
       "    }\n",
       "</style>\n",
       "<table border=\"1\" class=\"dataframe\">\n",
       "  <thead>\n",
       "    <tr style=\"text-align: right;\">\n",
       "      <th></th>\n",
       "      <th>CART_ID</th>\n",
       "      <th>ITEM_ID</th>\n",
       "      <th>QUANTITY</th>\n",
       "    </tr>\n",
       "  </thead>\n",
       "  <tbody>\n",
       "  </tbody>\n",
       "</table>\n",
       "</div>"
      ],
      "text/plain": [
       "Empty DataFrame\n",
       "Columns: [CART_ID, ITEM_ID, QUANTITY]\n",
       "Index: []"
      ]
     },
     "execution_count": 16,
     "metadata": {},
     "output_type": "execute_result"
    }
   ],
   "source": [
    "# check for duplicates cart_id and item_id \n",
    "cart_items[cart_items.duplicated(['CART_ID', 'ITEM_ID'])]"
   ]
  },
  {
   "cell_type": "code",
   "execution_count": 11,
   "metadata": {},
   "outputs": [
    {
     "data": {
      "text/html": [
       "<div>\n",
       "<style scoped>\n",
       "    .dataframe tbody tr th:only-of-type {\n",
       "        vertical-align: middle;\n",
       "    }\n",
       "\n",
       "    .dataframe tbody tr th {\n",
       "        vertical-align: top;\n",
       "    }\n",
       "\n",
       "    .dataframe thead th {\n",
       "        text-align: right;\n",
       "    }\n",
       "</style>\n",
       "<table border=\"1\" class=\"dataframe\">\n",
       "  <thead>\n",
       "    <tr style=\"text-align: right;\">\n",
       "      <th></th>\n",
       "      <th>ITEM_ID</th>\n",
       "      <th>ITEM_NAME</th>\n",
       "      <th>MERCHANT_ID</th>\n",
       "      <th>ITEM_PRICE</th>\n",
       "    </tr>\n",
       "  </thead>\n",
       "  <tbody>\n",
       "  </tbody>\n",
       "</table>\n",
       "</div>"
      ],
      "text/plain": [
       "Empty DataFrame\n",
       "Columns: [ITEM_ID, ITEM_NAME, MERCHANT_ID, ITEM_PRICE]\n",
       "Index: []"
      ]
     },
     "execution_count": 11,
     "metadata": {},
     "output_type": "execute_result"
    }
   ],
   "source": [
    "catalog_items[catalog_items['ITEM_ID'] == '40dbce35-8b17-4371-b228-45407ad442b4']"
   ]
  },
  {
   "cell_type": "code",
   "execution_count": null,
   "metadata": {},
   "outputs": [],
   "source": [
    "# Check for duplicate cart items"
   ]
  }
 ],
 "metadata": {
  "kernelspec": {
   "display_name": "Python 3.8.9 64-bit",
   "language": "python",
   "name": "python3"
  },
  "language_info": {
   "codemirror_mode": {
    "name": "ipython",
    "version": 3
   },
   "file_extension": ".py",
   "mimetype": "text/x-python",
   "name": "python",
   "nbconvert_exporter": "python",
   "pygments_lexer": "ipython3",
   "version": "3.8.9"
  },
  "orig_nbformat": 4,
  "vscode": {
   "interpreter": {
    "hash": "31f2aee4e71d21fbe5cf8b01ff0e069b9275f58929596ceb00d14d90e3e16cd6"
   }
  }
 },
 "nbformat": 4,
 "nbformat_minor": 2
}
